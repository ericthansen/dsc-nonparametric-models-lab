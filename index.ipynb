{
 "cells": [
  {
   "cell_type": "markdown",
   "metadata": {},
   "source": [
    "# Nonparametric ML Models - Cumulative Lab\n",
    "\n",
    "## Introduction\n",
    "\n",
    "In this cumulative lab, you will apply two nonparametric models you have just learned — k-nearest neighbors and decision trees — to the forest cover dataset.\n",
    "\n",
    "## Objectives\n",
    "\n",
    "* Practice identifying and applying appropriate preprocessing steps\n",
    "* Perform an iterative modeling process, starting from a baseline model\n",
    "* Explore multiple model algorithms, and tune their hyperparameters\n",
    "* Practice choosing a final model across multiple model algorithms and evaluating its performance"
   ]
  },
  {
   "cell_type": "markdown",
   "metadata": {},
   "source": [
    "## Your Task: Complete an End-to-End ML Process with Nonparametric Models on the Forest Cover Dataset\n",
    "\n",
    "![line of pine trees](images/trees.jpg)\n",
    "\n",
    "Photo by <a href=\"https://unsplash.com/@michaelbenz?utm_source=unsplash&utm_medium=referral&utm_content=creditCopyText\">Michael Benz</a> on <a href=\"/s/photos/forest?utm_source=unsplash&utm_medium=referral&utm_content=creditCopyText\">Unsplash</a>"
   ]
  },
  {
   "cell_type": "markdown",
   "metadata": {},
   "source": [
    "### Business and Data Understanding\n",
    "\n",
    "To repeat the previous description:\n",
    "\n",
    "> Here we will be using an adapted version of the forest cover dataset from the [UCI Machine Learning Repository](https://archive.ics.uci.edu/ml/datasets/covertype). Each record represents a 30 x 30 meter cell of land within Roosevelt National Forest in northern Colorado, which has been labeled as `Cover_Type` 1 for \"Cottonwood/Willow\" and `Cover_Type` 0 for \"Ponderosa Pine\". (The original dataset contained 7 cover types but we have simplified it.)\n",
    "\n",
    "The task is to predict the `Cover_Type` based on the available cartographic variables:"
   ]
  },
  {
   "cell_type": "code",
   "execution_count": 9,
   "metadata": {},
   "outputs": [
    {
     "data": {
      "text/html": [
       "<div>\n",
       "<style scoped>\n",
       "    .dataframe tbody tr th:only-of-type {\n",
       "        vertical-align: middle;\n",
       "    }\n",
       "\n",
       "    .dataframe tbody tr th {\n",
       "        vertical-align: top;\n",
       "    }\n",
       "\n",
       "    .dataframe thead th {\n",
       "        text-align: right;\n",
       "    }\n",
       "</style>\n",
       "<table border=\"1\" class=\"dataframe\">\n",
       "  <thead>\n",
       "    <tr style=\"text-align: right;\">\n",
       "      <th></th>\n",
       "      <th>Elevation</th>\n",
       "      <th>Aspect</th>\n",
       "      <th>Slope</th>\n",
       "      <th>Horizontal_Distance_To_Hydrology</th>\n",
       "      <th>Vertical_Distance_To_Hydrology</th>\n",
       "      <th>Horizontal_Distance_To_Roadways</th>\n",
       "      <th>Hillshade_9am</th>\n",
       "      <th>Hillshade_Noon</th>\n",
       "      <th>Hillshade_3pm</th>\n",
       "      <th>Horizontal_Distance_To_Fire_Points</th>\n",
       "      <th>...</th>\n",
       "      <th>Soil_Type_31</th>\n",
       "      <th>Soil_Type_32</th>\n",
       "      <th>Soil_Type_33</th>\n",
       "      <th>Soil_Type_34</th>\n",
       "      <th>Soil_Type_35</th>\n",
       "      <th>Soil_Type_36</th>\n",
       "      <th>Soil_Type_37</th>\n",
       "      <th>Soil_Type_38</th>\n",
       "      <th>Soil_Type_39</th>\n",
       "      <th>Cover_Type</th>\n",
       "    </tr>\n",
       "  </thead>\n",
       "  <tbody>\n",
       "    <tr>\n",
       "      <th>0</th>\n",
       "      <td>2553</td>\n",
       "      <td>235</td>\n",
       "      <td>17</td>\n",
       "      <td>351</td>\n",
       "      <td>95</td>\n",
       "      <td>780</td>\n",
       "      <td>188</td>\n",
       "      <td>253</td>\n",
       "      <td>199</td>\n",
       "      <td>1410</td>\n",
       "      <td>...</td>\n",
       "      <td>0</td>\n",
       "      <td>0</td>\n",
       "      <td>0</td>\n",
       "      <td>0</td>\n",
       "      <td>0</td>\n",
       "      <td>0</td>\n",
       "      <td>0</td>\n",
       "      <td>0</td>\n",
       "      <td>0</td>\n",
       "      <td>0</td>\n",
       "    </tr>\n",
       "    <tr>\n",
       "      <th>1</th>\n",
       "      <td>2011</td>\n",
       "      <td>344</td>\n",
       "      <td>17</td>\n",
       "      <td>313</td>\n",
       "      <td>29</td>\n",
       "      <td>404</td>\n",
       "      <td>183</td>\n",
       "      <td>211</td>\n",
       "      <td>164</td>\n",
       "      <td>300</td>\n",
       "      <td>...</td>\n",
       "      <td>0</td>\n",
       "      <td>0</td>\n",
       "      <td>0</td>\n",
       "      <td>0</td>\n",
       "      <td>0</td>\n",
       "      <td>0</td>\n",
       "      <td>0</td>\n",
       "      <td>0</td>\n",
       "      <td>0</td>\n",
       "      <td>0</td>\n",
       "    </tr>\n",
       "    <tr>\n",
       "      <th>2</th>\n",
       "      <td>2022</td>\n",
       "      <td>24</td>\n",
       "      <td>13</td>\n",
       "      <td>391</td>\n",
       "      <td>42</td>\n",
       "      <td>509</td>\n",
       "      <td>212</td>\n",
       "      <td>212</td>\n",
       "      <td>134</td>\n",
       "      <td>421</td>\n",
       "      <td>...</td>\n",
       "      <td>0</td>\n",
       "      <td>0</td>\n",
       "      <td>0</td>\n",
       "      <td>0</td>\n",
       "      <td>0</td>\n",
       "      <td>0</td>\n",
       "      <td>0</td>\n",
       "      <td>0</td>\n",
       "      <td>0</td>\n",
       "      <td>0</td>\n",
       "    </tr>\n",
       "    <tr>\n",
       "      <th>3</th>\n",
       "      <td>2038</td>\n",
       "      <td>50</td>\n",
       "      <td>17</td>\n",
       "      <td>408</td>\n",
       "      <td>71</td>\n",
       "      <td>474</td>\n",
       "      <td>226</td>\n",
       "      <td>200</td>\n",
       "      <td>102</td>\n",
       "      <td>283</td>\n",
       "      <td>...</td>\n",
       "      <td>0</td>\n",
       "      <td>0</td>\n",
       "      <td>0</td>\n",
       "      <td>0</td>\n",
       "      <td>0</td>\n",
       "      <td>0</td>\n",
       "      <td>0</td>\n",
       "      <td>0</td>\n",
       "      <td>0</td>\n",
       "      <td>0</td>\n",
       "    </tr>\n",
       "    <tr>\n",
       "      <th>4</th>\n",
       "      <td>2018</td>\n",
       "      <td>341</td>\n",
       "      <td>27</td>\n",
       "      <td>351</td>\n",
       "      <td>34</td>\n",
       "      <td>390</td>\n",
       "      <td>152</td>\n",
       "      <td>188</td>\n",
       "      <td>168</td>\n",
       "      <td>190</td>\n",
       "      <td>...</td>\n",
       "      <td>0</td>\n",
       "      <td>0</td>\n",
       "      <td>0</td>\n",
       "      <td>0</td>\n",
       "      <td>0</td>\n",
       "      <td>0</td>\n",
       "      <td>0</td>\n",
       "      <td>0</td>\n",
       "      <td>0</td>\n",
       "      <td>0</td>\n",
       "    </tr>\n",
       "    <tr>\n",
       "      <th>...</th>\n",
       "      <td>...</td>\n",
       "      <td>...</td>\n",
       "      <td>...</td>\n",
       "      <td>...</td>\n",
       "      <td>...</td>\n",
       "      <td>...</td>\n",
       "      <td>...</td>\n",
       "      <td>...</td>\n",
       "      <td>...</td>\n",
       "      <td>...</td>\n",
       "      <td>...</td>\n",
       "      <td>...</td>\n",
       "      <td>...</td>\n",
       "      <td>...</td>\n",
       "      <td>...</td>\n",
       "      <td>...</td>\n",
       "      <td>...</td>\n",
       "      <td>...</td>\n",
       "      <td>...</td>\n",
       "      <td>...</td>\n",
       "      <td>...</td>\n",
       "    </tr>\n",
       "    <tr>\n",
       "      <th>38496</th>\n",
       "      <td>2396</td>\n",
       "      <td>153</td>\n",
       "      <td>20</td>\n",
       "      <td>85</td>\n",
       "      <td>17</td>\n",
       "      <td>108</td>\n",
       "      <td>240</td>\n",
       "      <td>237</td>\n",
       "      <td>118</td>\n",
       "      <td>837</td>\n",
       "      <td>...</td>\n",
       "      <td>0</td>\n",
       "      <td>0</td>\n",
       "      <td>0</td>\n",
       "      <td>0</td>\n",
       "      <td>0</td>\n",
       "      <td>0</td>\n",
       "      <td>0</td>\n",
       "      <td>0</td>\n",
       "      <td>0</td>\n",
       "      <td>0</td>\n",
       "    </tr>\n",
       "    <tr>\n",
       "      <th>38497</th>\n",
       "      <td>2391</td>\n",
       "      <td>152</td>\n",
       "      <td>19</td>\n",
       "      <td>67</td>\n",
       "      <td>12</td>\n",
       "      <td>95</td>\n",
       "      <td>240</td>\n",
       "      <td>237</td>\n",
       "      <td>119</td>\n",
       "      <td>845</td>\n",
       "      <td>...</td>\n",
       "      <td>0</td>\n",
       "      <td>0</td>\n",
       "      <td>0</td>\n",
       "      <td>0</td>\n",
       "      <td>0</td>\n",
       "      <td>0</td>\n",
       "      <td>0</td>\n",
       "      <td>0</td>\n",
       "      <td>0</td>\n",
       "      <td>0</td>\n",
       "    </tr>\n",
       "    <tr>\n",
       "      <th>38498</th>\n",
       "      <td>2386</td>\n",
       "      <td>159</td>\n",
       "      <td>17</td>\n",
       "      <td>60</td>\n",
       "      <td>7</td>\n",
       "      <td>90</td>\n",
       "      <td>236</td>\n",
       "      <td>241</td>\n",
       "      <td>130</td>\n",
       "      <td>854</td>\n",
       "      <td>...</td>\n",
       "      <td>0</td>\n",
       "      <td>0</td>\n",
       "      <td>0</td>\n",
       "      <td>0</td>\n",
       "      <td>0</td>\n",
       "      <td>0</td>\n",
       "      <td>0</td>\n",
       "      <td>0</td>\n",
       "      <td>0</td>\n",
       "      <td>0</td>\n",
       "    </tr>\n",
       "    <tr>\n",
       "      <th>38499</th>\n",
       "      <td>2384</td>\n",
       "      <td>170</td>\n",
       "      <td>15</td>\n",
       "      <td>60</td>\n",
       "      <td>5</td>\n",
       "      <td>90</td>\n",
       "      <td>230</td>\n",
       "      <td>245</td>\n",
       "      <td>143</td>\n",
       "      <td>864</td>\n",
       "      <td>...</td>\n",
       "      <td>0</td>\n",
       "      <td>0</td>\n",
       "      <td>0</td>\n",
       "      <td>0</td>\n",
       "      <td>0</td>\n",
       "      <td>0</td>\n",
       "      <td>0</td>\n",
       "      <td>0</td>\n",
       "      <td>0</td>\n",
       "      <td>0</td>\n",
       "    </tr>\n",
       "    <tr>\n",
       "      <th>38500</th>\n",
       "      <td>2383</td>\n",
       "      <td>165</td>\n",
       "      <td>13</td>\n",
       "      <td>60</td>\n",
       "      <td>4</td>\n",
       "      <td>67</td>\n",
       "      <td>231</td>\n",
       "      <td>244</td>\n",
       "      <td>141</td>\n",
       "      <td>875</td>\n",
       "      <td>...</td>\n",
       "      <td>0</td>\n",
       "      <td>0</td>\n",
       "      <td>0</td>\n",
       "      <td>0</td>\n",
       "      <td>0</td>\n",
       "      <td>0</td>\n",
       "      <td>0</td>\n",
       "      <td>0</td>\n",
       "      <td>0</td>\n",
       "      <td>0</td>\n",
       "    </tr>\n",
       "  </tbody>\n",
       "</table>\n",
       "<p>38501 rows × 53 columns</p>\n",
       "</div>"
      ],
      "text/plain": [
       "       Elevation  Aspect  Slope  Horizontal_Distance_To_Hydrology  \\\n",
       "0           2553     235     17                               351   \n",
       "1           2011     344     17                               313   \n",
       "2           2022      24     13                               391   \n",
       "3           2038      50     17                               408   \n",
       "4           2018     341     27                               351   \n",
       "...          ...     ...    ...                               ...   \n",
       "38496       2396     153     20                                85   \n",
       "38497       2391     152     19                                67   \n",
       "38498       2386     159     17                                60   \n",
       "38499       2384     170     15                                60   \n",
       "38500       2383     165     13                                60   \n",
       "\n",
       "       Vertical_Distance_To_Hydrology  Horizontal_Distance_To_Roadways  \\\n",
       "0                                  95                              780   \n",
       "1                                  29                              404   \n",
       "2                                  42                              509   \n",
       "3                                  71                              474   \n",
       "4                                  34                              390   \n",
       "...                               ...                              ...   \n",
       "38496                              17                              108   \n",
       "38497                              12                               95   \n",
       "38498                               7                               90   \n",
       "38499                               5                               90   \n",
       "38500                               4                               67   \n",
       "\n",
       "       Hillshade_9am  Hillshade_Noon  Hillshade_3pm  \\\n",
       "0                188             253            199   \n",
       "1                183             211            164   \n",
       "2                212             212            134   \n",
       "3                226             200            102   \n",
       "4                152             188            168   \n",
       "...              ...             ...            ...   \n",
       "38496            240             237            118   \n",
       "38497            240             237            119   \n",
       "38498            236             241            130   \n",
       "38499            230             245            143   \n",
       "38500            231             244            141   \n",
       "\n",
       "       Horizontal_Distance_To_Fire_Points  ...  Soil_Type_31  Soil_Type_32  \\\n",
       "0                                    1410  ...             0             0   \n",
       "1                                     300  ...             0             0   \n",
       "2                                     421  ...             0             0   \n",
       "3                                     283  ...             0             0   \n",
       "4                                     190  ...             0             0   \n",
       "...                                   ...  ...           ...           ...   \n",
       "38496                                 837  ...             0             0   \n",
       "38497                                 845  ...             0             0   \n",
       "38498                                 854  ...             0             0   \n",
       "38499                                 864  ...             0             0   \n",
       "38500                                 875  ...             0             0   \n",
       "\n",
       "       Soil_Type_33  Soil_Type_34  Soil_Type_35  Soil_Type_36  Soil_Type_37  \\\n",
       "0                 0             0             0             0             0   \n",
       "1                 0             0             0             0             0   \n",
       "2                 0             0             0             0             0   \n",
       "3                 0             0             0             0             0   \n",
       "4                 0             0             0             0             0   \n",
       "...             ...           ...           ...           ...           ...   \n",
       "38496             0             0             0             0             0   \n",
       "38497             0             0             0             0             0   \n",
       "38498             0             0             0             0             0   \n",
       "38499             0             0             0             0             0   \n",
       "38500             0             0             0             0             0   \n",
       "\n",
       "       Soil_Type_38  Soil_Type_39  Cover_Type  \n",
       "0                 0             0           0  \n",
       "1                 0             0           0  \n",
       "2                 0             0           0  \n",
       "3                 0             0           0  \n",
       "4                 0             0           0  \n",
       "...             ...           ...         ...  \n",
       "38496             0             0           0  \n",
       "38497             0             0           0  \n",
       "38498             0             0           0  \n",
       "38499             0             0           0  \n",
       "38500             0             0           0  \n",
       "\n",
       "[38501 rows x 53 columns]"
      ]
     },
     "execution_count": 9,
     "metadata": {},
     "output_type": "execute_result"
    }
   ],
   "source": [
    "# Run this cell without changes\n",
    "import pandas as pd\n",
    "\n",
    "df = pd.read_csv('data/forest_cover.csv')\n",
    "df"
   ]
  },
  {
   "cell_type": "markdown",
   "metadata": {},
   "source": [
    "> As you can see, we have over 38,000 rows, each with 52 feature columns and 1 target column:\n",
    "\n",
    "> * `Elevation`: Elevation in meters\n",
    "> * `Aspect`: Aspect in degrees azimuth\n",
    "> * `Slope`: Slope in degrees\n",
    "> * `Horizontal_Distance_To_Hydrology`: Horizontal dist to nearest surface water features in meters\n",
    "> * `Vertical_Distance_To_Hydrology`: Vertical dist to nearest surface water features in meters\n",
    "> * `Horizontal_Distance_To_Roadways`: Horizontal dist to nearest roadway in meters\n",
    "> * `Hillshade_9am`: Hillshade index at 9am, summer solstice\n",
    "> * `Hillshade_Noon`: Hillshade index at noon, summer solstice\n",
    "> * `Hillshade_3pm`: Hillshade index at 3pm, summer solstice\n",
    "> * `Horizontal_Distance_To_Fire_Points`: Horizontal dist to nearest wildfire ignition points, meters\n",
    "> * `Wilderness_Area_x`: Wilderness area designation (3 columns)\n",
    "> * `Soil_Type_x`: Soil Type designation (39 columns)\n",
    "> * `Cover_Type`: 1 for cottonwood/willow, 0 for ponderosa pine\n",
    "\n",
    "This is also an imbalanced dataset, since cottonwood/willow trees are relatively rare in this forest:"
   ]
  },
  {
   "cell_type": "code",
   "execution_count": 10,
   "metadata": {},
   "outputs": [
    {
     "name": "stdout",
     "output_type": "stream",
     "text": [
      "Raw Counts\n",
      "0    35754\n",
      "1     2747\n",
      "Name: Cover_Type, dtype: int64\n",
      "\n",
      "Percentages\n",
      "0    0.928651\n",
      "1    0.071349\n",
      "Name: Cover_Type, dtype: float64\n"
     ]
    }
   ],
   "source": [
    "# Run this cell without changes\n",
    "print(\"Raw Counts\")\n",
    "print(df[\"Cover_Type\"].value_counts())\n",
    "print()\n",
    "print(\"Percentages\")\n",
    "print(df[\"Cover_Type\"].value_counts(normalize=True))"
   ]
  },
  {
   "cell_type": "markdown",
   "metadata": {},
   "source": [
    "Thus, a baseline model that always chose the majority class would have an accuracy of over 92%. Therefore we will want to report additional metrics at the end."
   ]
  },
  {
   "cell_type": "markdown",
   "metadata": {},
   "source": [
    "### Previous Best Model\n",
    "\n",
    "In a previous lab, we used SMOTE to create additional synthetic data, then tuned the hyperparameters of a logistic regression model to get the following final model metrics:\n",
    "\n",
    "* **Log loss:** 0.13031294393913376\n",
    "* **Accuracy:** 0.9456679825472678\n",
    "* **Precision:** 0.6659919028340081\n",
    "* **Recall:** 0.47889374090247455\n",
    "\n",
    "In this lab, you will try to beat those scores using more-complex, nonparametric models.\n",
    "\n",
    "### Modeling\n",
    "\n",
    "Although you may be aware of some additional model algorithms available from scikit-learn, for this lab you will be focusing on two of them: k-nearest neighbors and decision trees. Here are some reminders about these models:\n",
    "\n",
    "#### kNN - [documentation here](https://scikit-learn.org/stable/modules/generated/sklearn.neighbors.KNeighborsClassifier.html)\n",
    "\n",
    "This algorithm — unlike linear models or tree-based models — does not emphasize learning the relationship between the features and the target. Instead, for a given test record, it finds the most similar records in the training set and returns an average of their target values.\n",
    "\n",
    "* **Training speed:** Fast. In theory it's just saving the training data for later, although the scikit-learn implementation has some additional logic \"under the hood\" to make prediction faster.\n",
    "* **Prediction speed:** Very slow. The model has to look at every record in the training set to find the k closest to the new record.\n",
    "* **Requires scaling:** Yes. The algorithm to find the nearest records is distance-based, so it matters that distances are all on the same scale.\n",
    "* **Key hyperparameters:** `n_neighbors` (how many nearest neighbors to find; too few neighbors leads to overfitting, too many leads to underfitting), `p` and `metric` (what kind of distance to use in defining \"nearest\" neighbors)\n",
    "\n",
    "#### Decision Trees - [documentation here](https://scikit-learn.org/stable/modules/generated/sklearn.tree.DecisionTreeClassifier.html)\n",
    "\n",
    "Similar to linear models (and unlike kNN), this algorithm emphasizes learning the relationship between the features and the target. However, unlike a linear model that tries to find linear relationships between each of the features and the target, decision trees look for ways to split the data based on features to decrease the entropy of the target in each split.\n",
    "\n",
    "* **Training speed:** Slow. The model is considering splits based on as many as all of the available features, and it can split on the same feature multiple times. This requires exponential computational time that increases based on the number of columns as well as the number of rows.\n",
    "* **Prediction speed:** Medium fast. Producing a prediction with a decision tree means applying several conditional statements, which is slower than something like logistic regression but faster than kNN.\n",
    "* **Requires scaling:** No. This model is not distance-based. You also can use a `LabelEncoder` rather than `OneHotEncoder` for categorical data, since this algorithm doesn't necessarily assume that the distance between `1` and `2` is the same as the distance between `2` and `3`.\n",
    "* **Key hyperparameters:** Many features relating to \"pruning\" the tree. By default they are set so the tree can overfit, and by setting them higher or lower (depending on the hyperparameter) you can reduce overfitting, but too much will lead to underfitting. These are: `max_depth`, `min_samples_split`, `min_samples_leaf`, `min_weight_fraction_leaf`, `max_features`, `max_leaf_nodes`, and `min_impurity_decrease`. You can also try changing the `criterion` to \"entropy\" or the `splitter` to \"random\" if you want to change the splitting logic."
   ]
  },
  {
   "cell_type": "markdown",
   "metadata": {},
   "source": [
    "### Requirements\n",
    "\n",
    "#### 1. Prepare the Data for Modeling\n",
    "\n",
    "#### 2. Build a Baseline kNN Model\n",
    "\n",
    "#### 3. Build Iterative Models to Find the Best kNN Model\n",
    "\n",
    "#### 4. Build a Baseline Decision Tree Model\n",
    "\n",
    "#### 5. Build Iterative Models to Find the Best Decision Tree Model\n",
    "\n",
    "#### 6. Choose and Evaluate an Overall Best Model"
   ]
  },
  {
   "cell_type": "markdown",
   "metadata": {},
   "source": [
    "## 1. Prepare the Data for Modeling\n",
    "\n",
    "The target is `Cover_Type`. In the cell below, split `df` into `X` and `y`, then perform a train-test split with `random_state=42` and `stratify=y` to create variables with the standard `X_train`, `X_test`, `y_train`, `y_test` names.\n",
    "\n",
    "Include the relevant imports as you go."
   ]
  },
  {
   "cell_type": "code",
   "execution_count": 11,
   "metadata": {},
   "outputs": [],
   "source": [
    "# Your code here\n",
    "X=df.drop(\"Cover_Type\", axis=1)\n",
    "y=df[\"Cover_Type\"]\n",
    "\n",
    "from sklearn.model_selection import train_test_split\n",
    "\n",
    "# Split the data into training and test subsets\n",
    "X_train, X_test, y_train, y_test = train_test_split(X, y, stratify=y, random_state=42)"
   ]
  },
  {
   "cell_type": "markdown",
   "metadata": {},
   "source": [
    "Now, instantiate a `StandardScaler`, fit it on `X_train`, and create new variables `X_train_scaled` and `X_test_scaled` containing values transformed with the scaler."
   ]
  },
  {
   "cell_type": "code",
   "execution_count": 12,
   "metadata": {},
   "outputs": [],
   "source": [
    "# Your code here\n",
    "from sklearn.preprocessing import StandardScaler \n",
    "\n",
    "# Instantiate StandardScaler\n",
    "scaler = StandardScaler()\n",
    "scaler.fit(X_train)\n",
    "X_train_scaled = scaler.transform(X_train)\n",
    "X_test_scaled = scaler.transform(X_test)"
   ]
  },
  {
   "cell_type": "markdown",
   "metadata": {},
   "source": [
    "The following code checks that everything is set up correctly:"
   ]
  },
  {
   "cell_type": "code",
   "execution_count": 13,
   "metadata": {},
   "outputs": [],
   "source": [
    "# Run this cell without changes\n",
    "\n",
    "# Checking that df was separated into correct X and y\n",
    "assert type(X) == pd.DataFrame and X.shape == (38501, 52)\n",
    "assert type(y) == pd.Series and y.shape == (38501,)\n",
    "\n",
    "# Checking the train-test split\n",
    "assert type(X_train) == pd.DataFrame and X_train.shape == (28875, 52)\n",
    "assert type(X_test) == pd.DataFrame and X_test.shape == (9626, 52)\n",
    "assert type(y_train) == pd.Series and y_train.shape == (28875,)\n",
    "assert type(y_test) == pd.Series and y_test.shape == (9626,)\n",
    "\n",
    "# Checking the scaling\n",
    "assert X_train_scaled.shape == X_train.shape\n",
    "assert round(X_train_scaled[0][0], 3) == -0.636\n",
    "assert X_test_scaled.shape == X_test.shape\n",
    "assert round(X_test_scaled[0][0], 3) == -1.370"
   ]
  },
  {
   "cell_type": "markdown",
   "metadata": {},
   "source": [
    "## 2. Build a Baseline kNN Model\n",
    "\n",
    "Build a scikit-learn kNN model with default hyperparameters. Then use `cross_val_score` with `scoring=\"neg_log_loss\"` to find the mean log loss for this model (passing in `X_train_scaled` and `y_train` to `cross_val_score`). You'll need to find the mean of the cross-validated scores, and negate the value (either put a `-` at the beginning or multiply by `-1`) so that your answer is a log loss rather than a negative log loss.\n",
    "\n",
    "Call the resulting score `knn_baseline_log_loss`.\n",
    "\n",
    "Your code might take a minute or more to run."
   ]
  },
  {
   "cell_type": "code",
   "execution_count": 14,
   "metadata": {},
   "outputs": [
    {
     "data": {
      "text/plain": [
       "array([-0.11101314, -0.09149019, -0.13059783, -0.13916178, -0.1553815 ])"
      ]
     },
     "execution_count": 14,
     "metadata": {},
     "output_type": "execute_result"
    }
   ],
   "source": [
    "# Replace None with appropriate code\n",
    "\n",
    "# Relevant imports\n",
    "from sklearn.neighbors import KNeighborsClassifier\n",
    "from sklearn.model_selection import cross_val_score\n",
    "\n",
    "# Creating the model\n",
    "knn_baseline_model = KNeighborsClassifier().fit(X_train_scaled, y_train)\n",
    "\n",
    "# Perform cross-validation\n",
    "knn_baseline_log_loss = cross_val_score(knn_baseline_model, X_train_scaled, y_train, scoring=\"neg_log_loss\")\n",
    "\n",
    "knn_baseline_log_loss\n",
    "-(knn_baseline_log_loss.mean())"
   ]
  },
  {
   "cell_type": "code",
   "execution_count": 16,
   "metadata": {},
   "outputs": [
    {
     "data": {
      "text/plain": [
       "0.1255288892455634"
      ]
     },
     "execution_count": 16,
     "metadata": {},
     "output_type": "execute_result"
    }
   ],
   "source": [
    "-(knn_baseline_log_loss.mean())"
   ]
  },
  {
   "cell_type": "markdown",
   "metadata": {},
   "source": [
    "Our best logistic regression model had a log loss of 0.13031294393913376\n",
    "\n",
    "Is this model better? Compare it in terms of metrics and speed."
   ]
  },
  {
   "cell_type": "code",
   "execution_count": null,
   "metadata": {},
   "outputs": [],
   "source": [
    "# Replace None with appropriate text\n",
    "\"\"\"\n",
    "it has lower log loss, so should be better.  it had pretty good runtime, a minute or so, compared to the logreg which took a while\n",
    "\n",
    "\"\"\""
   ]
  },
  {
   "cell_type": "markdown",
   "metadata": {},
   "source": [
    "## 3. Build Iterative Models to Find the Best kNN Model\n",
    "\n",
    "Build and evaluate at least two more kNN models to find the best one. Explain why you are changing the hyperparameters you are changing as you go. These models will be *slow* to run, so be thinking about what you might try next as you run them."
   ]
  },
  {
   "cell_type": "code",
   "execution_count": 17,
   "metadata": {},
   "outputs": [
    {
     "data": {
      "text/plain": [
       "0.10487348038090896"
      ]
     },
     "execution_count": 17,
     "metadata": {},
     "output_type": "execute_result"
    }
   ],
   "source": [
    "# Your code here (add more cells as needed)\n",
    "knn_model_2 = KNeighborsClassifier(n_neighbors=6).fit(X_train_scaled, y_train)\n",
    "\n",
    "# Perform cross-validation\n",
    "knn_model_2_log_loss = cross_val_score(knn_model_2, X_train_scaled, y_train, scoring=\"neg_log_loss\")\n",
    "\n",
    "knn_model_2_log_loss\n",
    "-(knn_model_2_log_loss.mean())"
   ]
  },
  {
   "cell_type": "code",
   "execution_count": null,
   "metadata": {},
   "outputs": [],
   "source": [
    "#first i want to check out adding more neighbors (then reducing).\n",
    "#adding more neighbors(6) was an improvement.  we could check even higher."
   ]
  },
  {
   "cell_type": "code",
   "execution_count": 18,
   "metadata": {},
   "outputs": [
    {
     "data": {
      "text/plain": [
       "0.14445909301128243"
      ]
     },
     "execution_count": 18,
     "metadata": {},
     "output_type": "execute_result"
    }
   ],
   "source": [
    "# Your code here (add more cells as needed)\n",
    "knn_model_2b = KNeighborsClassifier(n_neighbors=4).fit(X_train_scaled, y_train)\n",
    "\n",
    "# Perform cross-validation\n",
    "knn_model_2b_log_loss = cross_val_score(knn_model_2b, X_train_scaled, y_train, scoring=\"neg_log_loss\")\n",
    "\n",
    "knn_model_2b_log_loss\n",
    "-(knn_model_2b_log_loss.mean())"
   ]
  },
  {
   "cell_type": "code",
   "execution_count": null,
   "metadata": {},
   "outputs": [],
   "source": [
    "#next I checked lowering n_neighbors - it made performance worse.  "
   ]
  },
  {
   "cell_type": "code",
   "execution_count": 19,
   "metadata": {},
   "outputs": [
    {
     "data": {
      "text/plain": [
       "0.1144531688354272"
      ]
     },
     "execution_count": 19,
     "metadata": {},
     "output_type": "execute_result"
    }
   ],
   "source": [
    "# Your code here (add more cells as needed)\n",
    "knn_model_3 = KNeighborsClassifier(n_neighbors=5, p=1).fit(X_train_scaled, y_train)\n",
    "\n",
    "# Perform cross-validation\n",
    "knn_model_3_log_loss = cross_val_score(knn_model_3, X_train_scaled, y_train, scoring=\"neg_log_loss\")\n",
    "\n",
    "knn_model_3_log_loss\n",
    "-(knn_model_3_log_loss.mean())"
   ]
  },
  {
   "cell_type": "code",
   "execution_count": null,
   "metadata": {},
   "outputs": [],
   "source": [
    "#then, I checked changing metric from euclidean to manhattan - this was an improvement too.  So, we could explore higher n_neighbors\n",
    "#as well as p=1"
   ]
  },
  {
   "cell_type": "code",
   "execution_count": 20,
   "metadata": {},
   "outputs": [
    {
     "data": {
      "text/plain": [
       "0.08441299087246057"
      ]
     },
     "execution_count": 20,
     "metadata": {},
     "output_type": "execute_result"
    }
   ],
   "source": [
    "# Your code here (add more cells as needed)\n",
    "knn_model_4 = KNeighborsClassifier(n_neighbors=7, p=1).fit(X_train_scaled, y_train)\n",
    "\n",
    "# Perform cross-validation\n",
    "knn_model_4_log_loss = cross_val_score(knn_model_4, X_train_scaled, y_train, scoring=\"neg_log_loss\")\n",
    "\n",
    "knn_model_4_log_loss\n",
    "-(knn_model_4_log_loss.mean())"
   ]
  },
  {
   "cell_type": "code",
   "execution_count": 21,
   "metadata": {},
   "outputs": [
    {
     "name": "stdout",
     "output_type": "stream",
     "text": [
      "8 0.07018235128351437\n",
      "9 0.06374575533465694\n",
      "10 0.06254007184711532\n",
      "11 0.06172556244896841\n",
      "12 0.06177497736710367\n",
      "13 0.0630702704169221\n",
      "14 0.06291417506796734\n"
     ]
    }
   ],
   "source": [
    "#wow, that was even better.  Instead of just blindly picking, I could iterate through...\n",
    "for i in range(8, 15):\n",
    "    knn_model = KNeighborsClassifier(n_neighbors=i, p=1).fit(X_train_scaled, y_train)\n",
    "\n",
    "    # Perform cross-validation\n",
    "    knn_model_log_loss = cross_val_score(knn_model, X_train_scaled, y_train, scoring=\"neg_log_loss\")\n",
    "\n",
    "    knn_model_log_loss\n",
    "    print(i, -(knn_model_log_loss.mean()))\n",
    "    "
   ]
  },
  {
   "cell_type": "code",
   "execution_count": null,
   "metadata": {},
   "outputs": [],
   "source": [
    "#looks like n_neighbors=11 is pretty good."
   ]
  },
  {
   "cell_type": "markdown",
   "metadata": {},
   "source": [
    "## 4. Build a Baseline Decision Tree Model\n",
    "\n",
    "Now that you have chosen your best kNN model, start investigating decision tree models. First, build and evaluate a baseline decision tree model, using default hyperparameters (with the exception of `random_state=42` for reproducibility).\n",
    "\n",
    "(Use cross-validated log loss, just like with the previous models.)"
   ]
  },
  {
   "cell_type": "code",
   "execution_count": 22,
   "metadata": {},
   "outputs": [
    {
     "name": "stdout",
     "output_type": "stream",
     "text": [
      "0.7057351605151588\n"
     ]
    }
   ],
   "source": [
    "# Your code here\n",
    "from sklearn.tree import DecisionTreeClassifier \n",
    "dt_model = DecisionTreeClassifier(random_state=42)\n",
    "dt_model.fit(X_train,y_train)\n",
    "\n",
    "dt_model_log_loss = cross_val_score(dt_model, X_train_scaled, y_train, scoring=\"neg_log_loss\")\n",
    "\n",
    "#dt_model_log_loss\n",
    "print( -(dt_model_log_loss.mean()))"
   ]
  },
  {
   "cell_type": "markdown",
   "metadata": {},
   "source": [
    "Interpret this score. How does this compare to the log loss from our best logistic regression and best kNN models? Any guesses about why?"
   ]
  },
  {
   "cell_type": "code",
   "execution_count": null,
   "metadata": {},
   "outputs": [],
   "source": [
    "# Replace None with appropriate text\n",
    "\"\"\"\n",
    "Decision tree is quite a bit worse than kNN.  First, because we haven't hyperparameter tuned the dtree approach yet.\n",
    "But there may be an inherent reason which is that spatial relationships like those that occur in the tree cover file\n",
    "lend themselves well to a knn model over a binary classification-decision tree model.  \n",
    "Surely there are other reasons too.\n",
    "\"\"\""
   ]
  },
  {
   "cell_type": "markdown",
   "metadata": {},
   "source": [
    "## 5. Build Iterative Models to Find the Best Decision Tree Model\n",
    "\n",
    "Build and evaluate at least two more decision tree models to find the best one. Explain why you are changing the hyperparameters you are changing as you go."
   ]
  },
  {
   "cell_type": "code",
   "execution_count": 23,
   "metadata": {},
   "outputs": [
    {
     "name": "stdout",
     "output_type": "stream",
     "text": [
      "0.653103979503405\n"
     ]
    }
   ],
   "source": [
    "# Your code here (add more cells as needed)\n",
    "dt_model = DecisionTreeClassifier(criterion='entropy', random_state=42)\n",
    "dt_model.fit(X_train,y_train)\n",
    "\n",
    "dt_model_log_loss = cross_val_score(dt_model, X_train_scaled, y_train, scoring=\"neg_log_loss\")\n",
    "\n",
    "#dt_model_log_loss\n",
    "print( -(dt_model_log_loss.mean()))\n",
    "\n",
    "#changing the loss criterion from gini to entropy helped."
   ]
  },
  {
   "cell_type": "code",
   "execution_count": 25,
   "metadata": {},
   "outputs": [
    {
     "name": "stdout",
     "output_type": "stream",
     "text": [
      "1 0.21122323200787632\n",
      "2 0.17110532803415182\n",
      "3 0.14446509918733946\n",
      "4 0.13234185089154932\n",
      "5 0.11994764825821917\n",
      "6 0.1191790711666659\n",
      "7 0.1298679201964616\n",
      "8 0.1775996337258546\n",
      "9 0.24865257046826192\n",
      "10 0.3207542010693237\n",
      "11 0.3778680279243406\n",
      "12 0.4665253451875496\n",
      "13 0.5351015780065211\n",
      "14 0.5951995281147878\n",
      "15 0.6038151378766712\n",
      "16 0.6503609729571844\n",
      "17 0.6482489490972803\n",
      "18 0.6501644194478378\n",
      "19 0.6329568627225856\n"
     ]
    }
   ],
   "source": [
    "# Your code here (add more cells as needed)\n",
    "for md in range(1,20):\n",
    "    dt_model = DecisionTreeClassifier(criterion='entropy', random_state=42, max_depth=md)\n",
    "    dt_model.fit(X_train,y_train)\n",
    "\n",
    "    dt_model_log_loss = cross_val_score(dt_model, X_train_scaled, y_train, scoring=\"neg_log_loss\")\n",
    "\n",
    "    #dt_model_log_loss\n",
    "    print(md,  -(dt_model_log_loss.mean()))\n",
    "    \n",
    "#next, I wanted to address max_depth, because this is likely a culprit for overfitting.  And wow, was it ever.\n",
    "#changing max_depth to 6 helps immensely."
   ]
  },
  {
   "cell_type": "code",
   "execution_count": 26,
   "metadata": {},
   "outputs": [
    {
     "name": "stdout",
     "output_type": "stream",
     "text": [
      "1 1.1937688745318766\n",
      "2 1.2978352546052432\n",
      "3 1.2081234271021617\n",
      "4 1.150707625997695\n",
      "5 1.1841994681963364\n",
      "6 0.9318093114151649\n",
      "7 1.0705639587042883\n",
      "8 1.0310908775540182\n",
      "9 0.8528628721977647\n",
      "10 0.9174552849869121\n",
      "11 0.8839626951127517\n",
      "12 0.8743942302945319\n",
      "13 0.8456860666712827\n",
      "14 0.8169778753563474\n",
      "15 0.8528629275811366\n",
      "16 0.7751124980055636\n",
      "17 0.752385794867431\n",
      "18 0.7942503414676378\n",
      "19 0.8791785457786995\n",
      "20 0.7894668013506753\n",
      "21 0.7284619190366636\n",
      "22 0.747600787091116\n",
      "23 0.7703281548297102\n",
      "24 0.7918584052590412\n",
      "25 0.7332465391293759\n",
      "26 0.7380311592220885\n",
      "27 0.8002314973442095\n",
      "28 0.7344425487712031\n",
      "29 0.741619935823089\n",
      "30 0.7296582609787213\n",
      "31 0.7380322391978382\n",
      "32 0.7392275288558322\n",
      "33 0.7224811508436944\n",
      "34 0.7523852410337131\n",
      "35 0.7487967967329432\n",
      "36 0.7356393060885494\n",
      "37 0.7212850581268094\n",
      "38 0.7332466222044336\n",
      "39 0.6949695230043043\n",
      "40 0.7272663801534964\n",
      "41 0.7200892423267835\n",
      "42 0.7057350774401012\n",
      "43 0.7212852242769248\n",
      "44 0.6854003658939369\n",
      "45 0.7260700935948103\n",
      "46 0.698558022688446\n",
      "47 0.703342504322729\n",
      "48 0.6901849859866495\n",
      "49 0.6865962647690206\n"
     ]
    }
   ],
   "source": [
    "# Your code here (add more cells as needed)\n",
    "for max_feat in range(1,50):\n",
    "    dt_model = DecisionTreeClassifier(criterion='entropy', random_state=42, max_features=max_feat)\n",
    "    dt_model.fit(X_train,y_train)\n",
    "\n",
    "    dt_model_log_loss = cross_val_score(dt_model, X_train_scaled, y_train, scoring=\"neg_log_loss\")\n",
    "\n",
    "    #dt_model_log_loss\n",
    "    print(max_feat,  -(dt_model_log_loss.mean()))\n",
    "    \n",
    "#next, I wanted to address max_features, because this could remove some extraneous colums which overfit.\n",
    "#unfortunately, nothing helps a lot here."
   ]
  },
  {
   "cell_type": "code",
   "execution_count": 31,
   "metadata": {},
   "outputs": [
    {
     "name": "stdout",
     "output_type": "stream",
     "text": [
      "15 0.3858747199360895\n",
      "16 0.37851811903707877\n",
      "17 0.37865986461523704\n",
      "18 0.3714917316073346\n",
      "19 0.3582000082328332\n",
      "20 0.3542099976991659\n",
      "21 0.34109329895175644\n",
      "22 0.34049125748522296\n",
      "23 0.32075097579713724\n",
      "24 0.30735329413667306\n",
      "25 0.30676100686760976\n",
      "26 0.2988039504382948\n",
      "27 0.2931039583554921\n",
      "28 0.29337527474145214\n",
      "29 0.2905360244569308\n",
      "30 0.2888192264039214\n",
      "31 0.28489779980417895\n",
      "32 0.2801200929860136\n",
      "33 0.27332962568944275\n",
      "34 0.2721657485870345\n",
      "35 0.27235271422087426\n",
      "36 0.27518050091033214\n",
      "37 0.26742528056684967\n",
      "38 0.26432023730911036\n",
      "39 0.26462889517459387\n"
     ]
    }
   ],
   "source": [
    "for minss in range(15,40):\n",
    "    dt_model = DecisionTreeClassifier(criterion='entropy', random_state=42, min_samples_split =minss)\n",
    "    dt_model.fit(X_train,y_train)\n",
    "\n",
    "    dt_model_log_loss = cross_val_score(dt_model, X_train_scaled, y_train, scoring=\"neg_log_loss\")\n",
    "\n",
    "    #dt_model_log_loss\n",
    "    print(minss,  -(dt_model_log_loss.mean()))\n",
    "    \n",
    "#next, I wanted to address min_samples_split, even though this could have similar effect to max_depth.\n"
   ]
  },
  {
   "cell_type": "code",
   "execution_count": 36,
   "metadata": {},
   "outputs": [
    {
     "name": "stdout",
     "output_type": "stream",
     "text": [
      "0.11796060834002864\n"
     ]
    }
   ],
   "source": [
    "final_DT_model = DecisionTreeClassifier(criterion='entropy', random_state=42, min_samples_split =38, max_depth=6)\n",
    "\n",
    "# Fit the model on the full training data\n",
    "# (scaled or unscaled depending on the model)\n",
    "final_DT_model.fit(X_train,y_train)\n",
    "\n",
    "final_dt_model_log_loss = cross_val_score(final_model, X_train_scaled, y_train, scoring=\"neg_log_loss\")\n",
    "\n",
    "#dt_model_log_loss\n",
    "print( -(final_dt_model_log_loss.mean()))\n",
    "\n",
    "# so it does a lot better than we started with, but still not as well as kNN."
   ]
  },
  {
   "cell_type": "markdown",
   "metadata": {},
   "source": [
    "## 6. Choose and Evaluate an Overall Best Model\n",
    "\n",
    "Which model had the best performance? What type of model was it?\n",
    "\n",
    "Instantiate a variable `final_model` using your best model with the best hyperparameters."
   ]
  },
  {
   "cell_type": "code",
   "execution_count": 38,
   "metadata": {},
   "outputs": [
    {
     "name": "stdout",
     "output_type": "stream",
     "text": [
      "0.12685488982085605\n"
     ]
    }
   ],
   "source": [
    "# Replace None with appropriate code\n",
    "final_model = KNeighborsClassifier(n_neighbors=11, p=1)\n",
    "\n",
    "# Fit the model on the full training data\n",
    "# (scaled or unscaled depending on the model)\n",
    "final_model.fit(X_train_scaled, y_train)\n",
    "\n",
    "final_model_log_loss = cross_val_score(final_model, X_train_scaled, y_train, scoring=\"neg_log_loss\")\n",
    "\n",
    "#dt_model_log_loss\n",
    "print( -(final_model_log_loss.mean()))"
   ]
  },
  {
   "cell_type": "markdown",
   "metadata": {},
   "source": [
    "Now, evaluate the log loss, accuracy, precision, and recall. This code is mostly filled in for you, but you need to replace `None` with either `X_test` or `X_test_scaled` depending on the model you chose."
   ]
  },
  {
   "cell_type": "code",
   "execution_count": null,
   "metadata": {},
   "outputs": [],
   "source": [
    "# Replace None with appropriate code\n",
    "from sklearn.metrics import accuracy_score, precision_score, recall_score\n",
    "\n",
    "preds = final_model.predict(X_test_scaled)\n",
    "probs = final_model.predict_proba(X_test_scaled)\n",
    "\n",
    "print(\"log loss: \", log_loss(y_test, probs))\n",
    "print(\"accuracy: \", accuracy_score(y_test, preds))\n",
    "print(\"precision:\", precision_score(y_test, preds))\n",
    "print(\"recall:   \", recall_score(y_test, preds))"
   ]
  },
  {
   "cell_type": "markdown",
   "metadata": {},
   "source": [
    "Interpret your model performance. How would it perform on different kinds of tasks? How much better is it than a \"dummy\" model that always chooses the majority class, or the logistic regression described at the start of the lab?"
   ]
  },
  {
   "cell_type": "code",
   "execution_count": null,
   "metadata": {},
   "outputs": [],
   "source": [
    "# Replace None with appropriate text\n",
    "\"\"\"\n",
    "A dummy model would have 92% accuracy.  Our logistic regression had 95%; \n",
    "this does even better with 0.98% accuracy.  Awesome!\n",
    "\"\"\""
   ]
  },
  {
   "cell_type": "markdown",
   "metadata": {},
   "source": [
    "## Conclusion\n",
    "\n",
    "In this lab, you practiced the end-to-end machine learning process with multiple model algorithms, including tuning the hyperparameters for those different algorithms. You saw how nonparametric models can be more flexible than linear models, potentially leading to overfitting but also potentially reducing underfitting by being able to learn non-linear relationships between variables. You also likely saw how there can be a tradeoff between speed and performance, with good metrics correlating with slow speeds."
   ]
  }
 ],
 "metadata": {
  "kernelspec": {
   "display_name": "Python 3",
   "language": "python",
   "name": "python3"
  },
  "language_info": {
   "codemirror_mode": {
    "name": "ipython",
    "version": 3
   },
   "file_extension": ".py",
   "mimetype": "text/x-python",
   "name": "python",
   "nbconvert_exporter": "python",
   "pygments_lexer": "ipython3",
   "version": "3.9.5"
  }
 },
 "nbformat": 4,
 "nbformat_minor": 4
}
